{
  "cells": [
    {
      "cell_type": "markdown",
      "metadata": {},
      "source": [
        "\n# S\u00edntese da Pol\u00edtica\n"
      ]
    },
    {
      "cell_type": "markdown",
      "metadata": {},
      "source": [
        "Para realizar a s\u00edntese da pol\u00edtica de um caso do DECOMP \u00e9 necess\u00e1rio estar em um diret\u00f3rio\nno qual est\u00e3o os principais arquivos de sa\u00edda do modelo. Por exemplo, para se realizar a\ns\u00edntese dos coeficientes dos cortes constru\u00eddos, s\u00e3o necessarios os arquivos\n`dec_fcf_cortes_NNN.rvX`. Neste contexto, basta fazer::\n\n   $ sintetizador-decomp politica\n\n\n"
      ]
    },
    {
      "cell_type": "markdown",
      "metadata": {},
      "source": [
        "O sintetizador ir\u00e1 exibir o log da sua execu\u00e7\u00e3o::\n\n   >>> 2025-04-07 21:11:56,394 INFO: # Realizando s\u00edntese da POLITICA #\n   >>> 2025-04-07 21:11:56,395 INFO: Realizando s\u00edntese de CORTES_COEFICIENTES\n   >>> 2025-04-07 21:11:56,396 INFO: Lendo arquivo dec_eco_discr.csv\n   >>> 2025-04-07 21:11:56,410 INFO: Lendo arquivo dadger.rv0\n   >>> 2025-04-07 21:11:56,734 INFO: Lendo arquivo dec_fcf_cortes_001.rv0\n   >>> 2025-04-07 21:11:56,803 INFO: Lendo arquivo dec_fcf_cortes_002.rv0\n   >>> 2025-04-07 21:11:56,872 INFO: Lendo arquivo dec_fcf_cortes_003.rv0\n   >>> 2025-04-07 21:11:56,942 INFO: Lendo arquivo dec_fcf_cortes_004.rv0\n   >>> 2025-04-07 21:11:57,011 INFO: Lendo arquivo dec_fcf_cortes_005.rv0\n   >>> 2025-04-07 21:11:57,102 INFO: Tempo para sintese de CORTES_COEFICIENTES: 0.71 s\n   >>> 2025-04-07 21:11:57,102 INFO: Realizando s\u00edntese de CORTES_VARIAVEIS\n   >>> 2025-04-07 21:11:57,109 INFO: Tempo para sintese de CORTES_VARIAVEIS: 0.01 s\n   >>> 2025-04-07 21:11:57,112 INFO: Tempo para sintese da politica: 0.72 s\n   >>> 2025-04-07 21:11:57,112 INFO: # Fim da s\u00edntese #\n\n"
      ]
    },
    {
      "cell_type": "markdown",
      "metadata": {},
      "source": [
        "Os arquivos ser\u00e3o salvos no subdiret\u00f3rio `sintese`. Para realizar o processamento,\npode ser utilizado o pr\u00f3prio `python`:\n\n"
      ]
    },
    {
      "cell_type": "code",
      "execution_count": null,
      "metadata": {
        "collapsed": false
      },
      "outputs": [],
      "source": [
        "import plotly.express as px\nimport pandas as pd"
      ]
    },
    {
      "cell_type": "markdown",
      "metadata": {},
      "source": [
        "Para a s\u00edntese da pol\u00edtica \u00e9 produzido um arquivo com as informa\u00e7\u00f5es das s\u00ednteses\nque foram realizadas:\n\n"
      ]
    },
    {
      "cell_type": "code",
      "execution_count": null,
      "metadata": {
        "collapsed": false
      },
      "outputs": [],
      "source": [
        "metadados = pd.read_parquet(\"sintese/METADADOS_POLITICA.parquet\")\nprint(metadados)\n\n# A leitura das s\u00ednteses realizadas pode ser feita da seguinte forma:\nvariaveis = pd.read_parquet(\"sintese/CORTES_VARIAVEIS.parquet\")\ncoeficientes = pd.read_parquet(\"sintese/CORTES_COEFICIENTES.parquet\")"
      ]
    },
    {
      "cell_type": "markdown",
      "metadata": {},
      "source": [
        "O formato dos dados de VARIAVEIS, que cont\u00e9m os dados referentes aos tipos das vari\u00e1veis\n(eixos) dos cortes constru\u00eddos:\n\n"
      ]
    },
    {
      "cell_type": "code",
      "execution_count": null,
      "metadata": {
        "collapsed": false
      },
      "outputs": [],
      "source": [
        "print(variaveis)"
      ]
    },
    {
      "cell_type": "markdown",
      "metadata": {},
      "source": [
        "O formato dos dados de COEFICIENTES:\n\n"
      ]
    },
    {
      "cell_type": "code",
      "execution_count": null,
      "metadata": {
        "collapsed": false
      },
      "outputs": [],
      "source": [
        "print(coeficientes.head(10))"
      ]
    },
    {
      "cell_type": "markdown",
      "metadata": {},
      "source": [
        "Cada dado pode ser visualizado de diferentes maneiras, a depender da aplica\u00e7\u00e3o.\n\n"
      ]
    },
    {
      "cell_type": "code",
      "execution_count": null,
      "metadata": {
        "collapsed": false
      },
      "outputs": [],
      "source": [
        "# Por exemplo, \u00e9 comum avaliar o comportamento dos coeficientes relativos ao volume\n# armazenado de uma usina hidrel\u00e9trica (multiplicador do volume versus estado consultado)\n# durante a constru\u00e7\u00e3o da pol\u00edtica do modelo para determinado est\u00e1gio.\n\nnome_coeficiente = \"VARM\"\ntipo_coeficiente = variaveis.loc[\n    variaveis[\"nome_curto_coeficiente\"] == nome_coeficiente, \"tipo_coeficiente\"\n].iloc[0]\nuhe = 6\nestagio = 1\ncoeficientes_varm = coeficientes.loc[\n    (coeficientes[\"tipo_coeficiente\"] == tipo_coeficiente)\n    & (coeficientes[\"indice_entidade\"] == uhe)\n    & (coeficientes[\"estagio\"] == 1)\n]\n\nfig = px.scatter(\n    coeficientes_varm, x=\"valor_estado\", y=\"valor_coeficiente\", color=\"iteracao\"\n)\nfig"
      ]
    }
  ],
  "metadata": {
    "kernelspec": {
      "display_name": "Python 3",
      "language": "python",
      "name": "python3"
    },
    "language_info": {
      "codemirror_mode": {
        "name": "ipython",
        "version": 3
      },
      "file_extension": ".py",
      "mimetype": "text/x-python",
      "name": "python",
      "nbconvert_exporter": "python",
      "pygments_lexer": "ipython3",
      "version": "3.12.11"
    }
  },
  "nbformat": 4,
  "nbformat_minor": 0
}